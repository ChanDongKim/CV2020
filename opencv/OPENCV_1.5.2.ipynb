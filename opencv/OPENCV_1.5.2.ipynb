{
 "cells": [
  {
   "cell_type": "markdown",
   "metadata": {},
   "source": [
    "### Harris Corner Detector in OpenCV"
   ]
  },
  {
   "cell_type": "code",
   "execution_count": 1,
   "metadata": {},
   "outputs": [],
   "source": [
    "import cv2\n",
    "import numpy as np"
   ]
  },
  {
   "cell_type": "code",
   "execution_count": 2,
   "metadata": {},
   "outputs": [],
   "source": [
    "filename = 'images/horse2.bmp'\n",
    "img = cv2.imread(filename)"
   ]
  },
  {
   "cell_type": "code",
   "execution_count": 3,
   "metadata": {},
   "outputs": [],
   "source": [
    "def nothing(x):\n",
    "    pass"
   ]
  },
  {
   "cell_type": "code",
   "execution_count": 4,
   "metadata": {},
   "outputs": [],
   "source": [
    "cv2.namedWindow('dst')\n",
    "cv2.createTrackbar('value', 'dst', 0, 1000, nothing)"
   ]
  },
  {
   "cell_type": "code",
   "execution_count": 5,
   "metadata": {},
   "outputs": [],
   "source": [
    "while(1):\n",
    "    img = cv2.imread(filename)\n",
    "    \n",
    "    value = cv2.getTrackbarPos('value', 'dst')\n",
    "    \n",
    "    gray = cv2.cvtColor(img,cv2.COLOR_BGR2GRAY)\n",
    "    gray = np.float32(gray)\n",
    "\n",
    "    dst = cv2.cornerHarris(gray,2,3,0.04)\n",
    "\n",
    "    #result is dilated for marking the corners, not important\n",
    "    dst = cv2.dilate(dst,None)\n",
    "\n",
    "    # Threshold for an optimal value, it may vary depending on the image.\n",
    "    img[dst>0.01*dst.max()]=[0,0,255]\n",
    "\n",
    "    cv2.imshow('dst',img)\n",
    "\n",
    "    if cv2.waitKey(0) & 0xff == 27:\n",
    "        break\n",
    "        \n",
    "cv2.destroyAllWindows()"
   ]
  },
  {
   "cell_type": "markdown",
   "metadata": {},
   "source": [
    "### Corner with SubPixel Accuracy"
   ]
  },
  {
   "cell_type": "code",
   "execution_count": null,
   "metadata": {},
   "outputs": [],
   "source": [
    "import cv2\n",
    "import numpy as np"
   ]
  },
  {
   "cell_type": "code",
   "execution_count": null,
   "metadata": {},
   "outputs": [],
   "source": [
    "filename = 'images/horse2.bmp'\n",
    "img = cv2.imread(filename)"
   ]
  },
  {
   "cell_type": "code",
   "execution_count": 56,
   "metadata": {},
   "outputs": [
    {
     "name": "stdout",
     "output_type": "stream",
     "text": [
      "(165, 4)\n"
     ]
    }
   ],
   "source": [
    "gray = cv2.cvtColor(img,cv2.COLOR_BGR2GRAY)\n",
    "\n",
    "# find Harris corners\n",
    "gray = np.float32(gray)\n",
    "\n",
    "dst = cv2.cornerHarris(gray,2,3,0.04)\n",
    "dst = cv2.dilate(dst,None)\n",
    "\n",
    "ret, dst = cv2.threshold(dst,0.01*dst.max(),255,0)\n",
    "\n",
    "dst = np.uint8(dst)\n",
    "\n",
    "# find centroids\n",
    "ret, labels, stats, centroids = cv2.connectedComponentsWithStats(dst)\n",
    "\n",
    "# define the criteria to stop and refine the corners\n",
    "criteria = (cv2.TERM_CRITERIA_EPS + cv2.TERM_CRITERIA_MAX_ITER, 100, 0.001)\n",
    "corners = cv2.cornerSubPix(gray,np.float32(centroids),(5,5),(-1,-1),criteria)\n",
    "\n",
    "# Now draw them\n",
    "res = np.hstack((centroids,corners))\n",
    "res = np.int0(res)\n",
    "print(res.shape)\n",
    "\n",
    "img[res[:,1],res[:,0]]=[0,0,255]\n",
    "img[res[:,3],res[:,2]] = [0,255,0]\n",
    "\n",
    "#cv2.imwrite('subpixel5.png',img)"
   ]
  },
  {
   "cell_type": "code",
   "execution_count": 57,
   "metadata": {},
   "outputs": [
    {
     "data": {
      "text/plain": [
       "array([383, 113, 111, 126, 128, 129, 131, 138, 139, 157, 159, 158, 161,\n",
       "       164, 166, 169, 172, 173, 175, 178, 176, 187, 187, 197, 205, 213,\n",
       "       212, 220, 217, 224, 228, 234, 235, 242, 241, 243, 246, 249, 248,\n",
       "       249, 250, 251, 251, 251, 258, 264, 267, 272, 295, 310, 326, 325,\n",
       "       329, 344, 347, 351, 354, 349, 354, 354, 355, 361, 361, 362, 363,\n",
       "       367, 367, 372, 377, 376, 379, 377, 380, 410, 384, 390, 388, 389,\n",
       "       392, 396, 400, 402, 405, 403, 406, 404, 410, 410, 412, 413, 414,\n",
       "       422, 421, 424, 424, 426, 427, 431, 432, 434, 435, 440, 436, 439,\n",
       "       437, 446, 439, 445, 445, 449, 450, 459, 460, 460, 460, 467, 470,\n",
       "       469, 474, 475, 479, 481, 486, 492, 495, 501, 503, 501, 504, 510,\n",
       "       518, 529, 529, 534, 536, 585, 586, 586, 589, 600, 614, 620, 626,\n",
       "       629, 634, 634, 637, 639, 645, 652, 652, 671, 676, 677, 685, 694,\n",
       "       696, 701, 699, 701, 703, 709, 709, 716, 766], dtype=int64)"
      ]
     },
     "execution_count": 57,
     "metadata": {},
     "output_type": "execute_result"
    }
   ],
   "source": [
    "res[:,1]"
   ]
  },
  {
   "cell_type": "code",
   "execution_count": 58,
   "metadata": {},
   "outputs": [],
   "source": [
    "for i in range(res.shape[0]):\n",
    "    cv2.circle(img,(res[i,0], res[i,1]),2, (0,0,255),-1)\n",
    "    cv2.circle(img,(res[i,2], res[i,3]),3, (0,255,0),-1)"
   ]
  },
  {
   "cell_type": "code",
   "execution_count": 60,
   "metadata": {},
   "outputs": [],
   "source": [
    "cv2.imshow('dst', img)\n",
    "cv2.waitKey(0)\n",
    "cv2.destroyAllWindows()"
   ]
  }
 ],
 "metadata": {
  "kernelspec": {
   "display_name": "Python 3",
   "language": "python",
   "name": "python3"
  },
  "language_info": {
   "codemirror_mode": {
    "name": "ipython",
    "version": 3
   },
   "file_extension": ".py",
   "mimetype": "text/x-python",
   "name": "python",
   "nbconvert_exporter": "python",
   "pygments_lexer": "ipython3",
   "version": "3.8.5"
  }
 },
 "nbformat": 4,
 "nbformat_minor": 4
}
